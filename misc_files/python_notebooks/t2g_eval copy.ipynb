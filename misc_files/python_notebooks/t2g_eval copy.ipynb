{
 "cells": [
  {
   "cell_type": "code",
   "execution_count": 28,
   "metadata": {},
   "outputs": [],
   "source": [
    "#Imports\n",
    "\n",
    "import numpy as np\n",
    "import torch\n",
    "import torch.nn as nn\n",
    "import torch.nn.functional as F\n",
    "from torch import optim\n",
    "import tqdm\n",
    "from sklearn.metrics import f1_score\n",
    "\n",
    "class ModelLSTM(nn.Module):\n",
    "\tdef __init__(self, input_types, relation_types, model_dim, dropout = 0.0):\n",
    "\t\tsuper().__init__()\n",
    "\n",
    "\t\tself.word_types = input_types\n",
    "\t\tself.relation_types = relation_types\n",
    "\t\tself.dropout = dropout\n",
    "\t\tself.model_dim = model_dim\n",
    "\n",
    "\t\tself.emb = nn.Embedding(input_types, self.model_dim)\n",
    "\t\tself.lstm = nn.LSTM(self.model_dim, self.model_dim//2, batch_first=True, bidirectional=True, num_layers=2)\n",
    "\t\tself.relation_layer1 = nn.Linear(self.model_dim , self.model_dim)\n",
    "\t\tself.relation_layer2 = nn.Linear(self.model_dim , self.model_dim)\n",
    "\t\tself.drop = nn.Dropout(self.dropout)\n",
    "\t\tself.projection = nn.Linear(self.model_dim , self.model_dim)\n",
    "\t\tself.decoder = nn.Linear(self.model_dim , self.relation_types)\n",
    "\t\tself.layer_norm = nn.LayerNorm(self.model_dim)\n",
    "\n",
    "\t\tself.init_params()\n",
    "\n",
    "\tdef init_params(self):\n",
    "\t\tnn.init.xavier_normal_(self.relation_layer1.weight.data)\n",
    "\t\tnn.init.xavier_normal_(self.relation_layer2.weight.data)\n",
    "\t\tnn.init.xavier_normal_(self.projection.weight.data)\n",
    "\t\tnn.init.xavier_normal_(self.decoder.weight.data)\n",
    "\n",
    "\t\tnn.init.constant_(self.relation_layer1.bias.data , 0)\n",
    "\t\tnn.init.constant_(self.relation_layer2.bias.data , 0)\n",
    "\t\tnn.init.constant_(self.projection.bias.data , 0)\n",
    "\t\tnn.init.constant_(self.decoder.bias.data , 0)\n",
    "\n",
    "\t#def forward(self, batch):\n",
    "\tdef forward(self, sents, ent_inds, max_ents):\n",
    "\t\t#sents = batch['text']\n",
    "\t\tsents, (c_0, h_0) = self.lstm(self.emb(sents))\n",
    "\n",
    "\t\tbs, _, hidden_dim = sents.shape\n",
    "\t\t\n",
    "\t\t#max_ents = max([max([ent_ind[0] for ent_ind in batch_ent_inds]) for batch_ent_inds in ent_inds]).item() + 1\n",
    "\t\tmax_ents = max_ents.item()\n",
    "\n",
    "\t\tcont_word_mask = sents.new_zeros(bs, max_ents)\n",
    "\t\tcont_word_embs = sents.new_zeros(bs, max_ents, hidden_dim)\n",
    "\n",
    "\t\t#for b, (sent,entind) in enumerate(zip(sents,batch['entity_inds'])):\n",
    "\t\tfor b, (sent,entind) in enumerate(zip(sents, ent_inds)):\n",
    "\t\t\tfor z in entind:\n",
    "\t\t\t\tif z[0] == -1:\n",
    "\t\t\t\t\tbreak\n",
    "\t\t\t\telse:\n",
    "\t\t\t\t\twordemb = sent[z[1]:z[2]]\n",
    "\t\t\t\t\t#cont_word_embs[b, z[0]] = (cont_word_mask[b, z[0]]*cont_word_embs[b, z[0]] + torch.mean(wordemb, dim = 0))/(cont_word_mask[b, z[0]] + 1)\n",
    "\t\t\t\t\t#FUCK, try ignoring repeats for now :(\n",
    "\t\t\t\t\tcont_word_embs[b, z[0]] = torch.mean(wordemb, dim =0)\n",
    "\t\t\t\t\tcont_word_mask[b, z[0]] = 1\n",
    "\n",
    "\t\t# bs x max_ents x model_dim\n",
    "\t\tcont_word_embs = self.layer_norm(cont_word_embs)\n",
    "\t\tcont_word_mask = torch.clamp(cont_word_mask, 0, 1)\n",
    "\n",
    "\t\trel1 = self.relation_layer1(cont_word_embs)\n",
    "\t\trel2 = self.relation_layer2(cont_word_embs)\n",
    "\n",
    "\t\t#bs x max_ents x max_ents x model_dim\n",
    "\t\tout = rel1.unsqueeze(1) + rel2.unsqueeze(2)\n",
    "\n",
    "\t\tout = F.relu(self.drop(out))\n",
    "\t\tout = F.relu(self.projection(out))\n",
    "\t\tout = self.decoder(out)\n",
    "\n",
    "\t\tout = out * cont_word_mask.view(bs,max_ents,1,1) * cont_word_mask.view(bs,1,max_ents,1)\n",
    "\n",
    "\t\treturn torch.log_softmax(out, -1) # bs x max ents x max_ents x num_relations\n",
    "\n",
    "class T2GModel():\n",
    "\tdef __init__(self, vocab, device, model_dim):\n",
    "\t\tself.inp_types = len(vocab.entities.wordlist) + len(vocab.text.wordlist)\n",
    "\t\tself.rel_types = len(vocab.relations.wordlist)\n",
    "\n",
    "\t\tself.model = ModelLSTM(self.inp_types, self.rel_types, model_dim = model_dim).to(device)\n",
    "\t\tself.vocab = vocab\n",
    "\t\tself.device = device\n",
    "\n",
    "\tdef eval(self):\n",
    "\t\tself.model.eval()\n",
    "    \n",
    "\tdef train(self):\n",
    "\t\tself.model.train()\n",
    "\tdef t2g_preprocess(self, batch):\n",
    "\t\t\t\"\"\" \n",
    "\t\t\t\tinput: list of dictionaries in raw_json_format\n",
    "\t\t\t\toutput: prepreprocessed dictionaries containing text, entity inds\n",
    "\t\t\t\"\"\"\n",
    "\n",
    "\t\t\tdef entity2Indices(entity, mode = \"T2G\"):\n",
    "\t\t\t\ttemp = torch.zeros(len(entity), dtype = torch.long)\n",
    "\t\t\t\tfor ind, word in enumerate(entity):\n",
    "\t\t\t\t\tif word not in self.vocab.entities.word2idx:\n",
    "\t\t\t\t\t\ttemp[ind] = self.vocab.entities.word2idx[\"<UNK>\"]\n",
    "\t\t\t\t\telse:\n",
    "\t\t\t\t\t\ttemp[ind] = self.vocab.entities.word2idx[word]\n",
    "\t\t\t\treturn temp\n",
    "\t\t\t\t\t\n",
    "\t\t\tdef text2Indices(text):\n",
    "\t\t\t\ttemp = torch.zeros(len(text.split()) + 2, dtype=torch.long)\n",
    "\t\t\t\ttemp[0] = self.vocab.text.word2idx[\"<SOS>\"]\n",
    "\t\t\t\tfor ind, word in enumerate(text.split()):\n",
    "\t\t\t\t\tif word not in self.vocab.text.word2idx:\n",
    "\t\t\t\t\t\ttemp[ind + 1] = self.vocab.text.word2idx[\"<UNK>\"]\n",
    "\t\t\t\t\telse:\n",
    "\t\t\t\t\t\ttemp[ind + 1] = self.vocab.text.word2idx[word]\n",
    "\t\t\t\ttemp[-1] = self.vocab.text.word2idx[\"<EOS>\"]\n",
    "\t\t\t\treturn temp\n",
    "\n",
    "\t\t\tdef concatTextEntities(raw_json_sentence):\n",
    "\t\t\t\tsent = text2Indices(raw_json_sentence['text'])\n",
    "\t\t\t\tmodified_input = torch.LongTensor([0])\n",
    "\t\t\t\tlbound = 0\n",
    "\t\t\t\tentity_locations = []\n",
    "\t\t\t\tadditional_words = 0\n",
    "\t\t\t\tfor index, value in enumerate(sent):\n",
    "\t\t\t\t\tif value.item() in self.vocab.entityindices:\n",
    "\t\t\t\t\t\ttemp = entity2Indices(raw_json_sentence['entities'][self.vocab.entityindices[value.item()]])\n",
    "\t\t\t\t\t\ttemp += len(self.vocab.text.wordlist)\n",
    "\t\t\t\t\t\tmodified_input = torch.cat((modified_input, sent[lbound:index], temp), dim = 0)\n",
    "\t\t\t\t\t\tentity_locations.append([self.vocab.entityindices[value.item()], index + additional_words, index + additional_words + len(temp)])\n",
    "\t\t\t\t\t\tadditional_words += len(temp) - 1\n",
    "\t\t\t\t\t\tlbound = index + 1\n",
    "\t\t\t\tmodified_input = torch.cat((modified_input, sent[lbound:]), dim = 0)[1:]\n",
    "\t\t\t\treturn modified_input, torch.LongTensor(entity_locations)\n",
    "\n",
    "\t\t\tmaxlentext = 0\n",
    "\t\t\tmaxents = 0\n",
    "\t\t\ttemp_text = []\n",
    "\t\t\ttemp_inds = []\n",
    "\t\t\tskipped = 0\n",
    "\t\t\tfor k, raw_json_sentence in enumerate(batch):\n",
    "\t\t\t\t\n",
    "\t\t\t\t(text, entity_inds) = concatTextEntities(raw_json_sentence)\n",
    "\t\t\t\tif len(entity_inds) == 0:\n",
    "\t\t\t\t\tskipped += 1\n",
    "\t\t\t\t\tcontinue\n",
    "\t\t\t\ttemp_inds.append(entity_inds)\n",
    "\t\t\t\tif len(entity_inds) > maxents:\n",
    "\t\t\t\t\tmaxents = len(entity_inds)\n",
    "\t\t\t\ttemp_text.append(text)\n",
    "\t\t\t\tif text.shape[0] > maxlentext:\n",
    "\t\t\t\t\tmaxlentext = text.shape[0]\n",
    "\t\t\t\t\n",
    "\t\t\tfinal_text = torch.ones((len(batch)-skipped, maxlentext), dtype = torch.long)*self.vocab.text.word2idx[\"<EMPTY>\"]\n",
    "\t\t\tfinal_ents = torch.ones((len(batch)-skipped, maxents, 3), dtype = torch.long)*-1\n",
    "\n",
    "\t\t\tfor k in range(len(batch)-skipped):\n",
    "\t\t\t\t# print(temp_text[k], temp_inds[k])\n",
    "\t\t\t\t# print(len(temp_text[k]), len(temp_inds[k]), k)\n",
    "\t\t\t\tfinal_text[k][:len(temp_text[k])] = temp_text[k]\n",
    "\t\t\t\tfinal_ents[k][:len(temp_inds[k])] = temp_inds[k]\n",
    "\t\t\t\n",
    "\t\t\treturn final_text, final_ents\n",
    "\n",
    "\t# input - texts with original entities taken out (list of dicts with text and entities)\n",
    "\t# output - batch of graphs (list of dicts with relations and entities)\n",
    "\tdef predict(self, batch):\n",
    "\t\tpreprocessed_text, preprocessed_inds = self.t2g_preprocess(batch)\n",
    "\t\tmax_ents = max([len(graph[\"entities\"]) for graph in batch])\n",
    "\n",
    "\t\t#preds = self.model(preprocessed_text.to(self.device), preprocessed_inds.to(self.device))\n",
    "\t\tpreds = self.model(preprocessed_text.to(self.device), preprocessed_inds.to(self.device), torch.tensor(max_ents).to(self.device))\n",
    "\t\tpreds = torch.argmax(preds, -1)\n",
    "\n",
    "\t\tbs, ne, _ = preds.shape\n",
    "\n",
    "\t\toutput = [] #list of dictionaries\n",
    "\n",
    "\t\t#print(ne, max([len(batch[b]['entities'])] for b in range(bs)))\n",
    "\t\tassert ne == max([len(batch[b]['entities'])] for b in range(bs))[0]\n",
    "\n",
    "\t\tfor b in range(bs):\n",
    "\t\t\ttemp = {\n",
    "\t\t\t\t\"relations\": [],\n",
    "\t\t\t\t\"entities\": batch[b]['entities']\n",
    "\t\t\t}\n",
    "\t\t\tfor i in range(0, ne):\n",
    "\t\t\t\tfor j in range(i+1, ne):\n",
    "\t\t\t\t\ttemp['relations'].append([temp['entities'][i], self.vocab.relations.wordlist[preds[b, i, j]], temp['entities'][j]])\n",
    "\t\t\toutput.append(temp)\n",
    "\t\treturn output\n",
    "\n",
    "\tdef eval_t2g(self, eval_dataset):\n",
    "\t\tdef relation2Indices(raw_json_sentence, max_ents):\n",
    "\t\t\t'''\n",
    "\t\t\t\tParameters:\n",
    "\t\t\t\t\tvocab - Vocabulary object that contains the vocab from a parsed json file\n",
    "\t\t\t\t\traw_json_sentence - one element of array (i.e. one dict) contained in raw json file\n",
    "\t\t\t\t\tmax_ents - gives size of return array\n",
    "\n",
    "\t\t\t\tReturn:\n",
    "\t\t\t\t\tlabels - Symmetrical [max_entities x max_entities)] Longtensor where \n",
    "\t\t\t\t\t\t\t\t\tlabels[i][j] denotes the relation between entities i and j.\n",
    "\t\t\t\t\t\t\tAnything where i >= l or j >= l is <EMPTY> \n",
    "\t\t\t'''\n",
    "\t\t\tl = len(raw_json_sentence['entities'])\n",
    "\t\t\tret = torch.ones((max_ents,max_ents), dtype = torch.long)*self.vocab.relations.word2idx[\"<NO_RELATION>\"]\n",
    "\t\t\tfor i in range(l, max_ents):\n",
    "\t\t\t\tfor j in range(0, max_ents):\n",
    "\t\t\t\t\tret[i][j] = ret[j][i] = self.vocab.relations.word2idx[\"<EMPTY>\"]\n",
    "\t\t\t\n",
    "\t\t\tfor i in range(0, l):\n",
    "\t\t\t\tfor j in range(0, i+1):\n",
    "\t\t\t\t\tret[i][j] = self.vocab.relations.word2idx[\"<EMPTY>\"]\n",
    "\t\t\t\t\t\n",
    "\t\t\t# for i in range(l, max_ents):\n",
    "\t\t\t# \tfor j in range(0, max_ents): # could do (0, l) for efficiency\n",
    "\t\t\t# \t\tret[j][i] = vocab.relations.word2idx[\"<EMPTY>\"]\n",
    "\t\t\tentitydict = {}\n",
    "\t\t\tfor i, entity in enumerate(raw_json_sentence['entities']):\n",
    "\t\t\t\tentitydict[\"\".join(entity)] = i\n",
    "\t\t\tfor relation in raw_json_sentence['relations']:\n",
    "\t\t\t\tind1 = entitydict[\"\".join(relation[0])]\n",
    "\t\t\t\tind2 = entitydict[\"\".join(relation[2])]\n",
    "\t\t\t\tif relation[1] not in self.vocab.relations.word2idx:\n",
    "\t\t\t\t\trep = self.vocab.relations.word2idx['<UNK>']\n",
    "\t\t\t\telse:\n",
    "\t\t\t\t\trep = self.vocab.relations.word2idx[relation[1]]\n",
    "\t\t\t\t#ret[ind1][ind2] = ret[ind2][ind1] = vocab.relations.word2idx[relation[1]]\n",
    "\t\t\t\tif ind1 < ind2:\n",
    "\t\t\t\t\tret[ind1][ind2] = rep\n",
    "\t\t\t\t\t#self.vocab.relations.word2idx[relation[1]]\n",
    "\t\t\t\t\t#ret[ind2][ind1] = self.vocab.relations.word2idx[\"<EMPTY>\"]\n",
    "\t\t\t\telse:\n",
    "\t\t\t\t\tret[ind2][ind1] = rep\n",
    "\t\t\t\t\t#self.vocab.relations.word2idx[relation[1]]\n",
    "\t\t\t\t\t#ret[ind1][ind2] = self.vocab.relations.word2idx[\"<EMPTY>\"]\n",
    "\t\t\treturn ret\n",
    "\n",
    "\t\tself.model.eval()\n",
    "\t\tpreprocessed_text, preprocessed_inds = self.t2g_preprocess(eval_dataset)\n",
    "\t\tmax_ents = max([len(graph[\"entities\"]) for graph in eval_dataset])\n",
    "\n",
    "\t\tpreprocessed_labels = [relation2Indices(json_sent, max_ents) for json_sent in eval_dataset]\n",
    "\n",
    "\t\t\n",
    "\t\tpreds = self.model(preprocessed_text.to(self.device), preprocessed_inds.to(self.device), torch.tensor(max_ents))\n",
    "\t\tpreds = torch.argmax(preds, -1)\n",
    "\n",
    "\t\tbs, ne, _ = preds.shape\n",
    "\n",
    "\t\ttrue_labels = []\n",
    "\t\tpred_labels = []\n",
    "\n",
    "\t\tfor b in range(bs):\n",
    "\t\t\ttemp_true = []\n",
    "\t\t\ttemp_pred = []\n",
    "\t\t\tfor i in range(0, len(eval_dataset[b]['entities'])):\n",
    "\t\t\t\tfor j in range(i+1, len(eval_dataset[b]['entities'])):\n",
    "\t\t\t\t\ttemp_true.append(preprocessed_labels[b][i][j].item())\n",
    "\t\t\t\t\ttemp_pred.append(preds[b][i][j].item())\n",
    "\t\t\ttrue_labels.extend(temp_true)\n",
    "\t\t\tpred_labels.extend(temp_pred)\n",
    "\n",
    "\t\t# print(\"Micro F1: \", f1_score(true_labels, pred_labels, average = 'micro'))\n",
    "\t\t# print(\"Macro F1: \", f1_score(true_labels, pred_labels, average = 'macro'))\n",
    "\t\t#print(\"true\", true_labels)\n",
    "\t\t#print(\"pred\", pred_labels)\n",
    "\t\treturn f1_score(true_labels, pred_labels, average = 'micro'), f1_score(true_labels, pred_labels, average = 'macro'), true_labels, pred_labels"
   ]
  },
  {
   "cell_type": "code",
   "execution_count": 29,
   "metadata": {},
   "outputs": [
    {
     "name": "stdout",
     "output_type": "stream",
     "text": [
      "Creating empty vocabulary object\n",
      "Finished Parsing Text\n"
     ]
    }
   ],
   "source": [
    "# importing the module\n",
    "import json\n",
    "\n",
    "import data_processing as dp\n",
    "  \n",
    "# Opening JSON file\n",
    "f = open('json_datasets/train.json', 'r')\n",
    "\n",
    "raw_train = json.load(f)\n",
    "\n",
    "vocab = dp.Vocabulary()\n",
    "vocab.parseText(raw_train)\n",
    "\n",
    "inp_types = len(vocab.entities.wordlist) + len(vocab.text.wordlist)\n",
    "rel_types = len(vocab.relations.wordlist)\n",
    "\n",
    "t2g_model = T2GModel(vocab, torch.device('cpu'), 512)"
   ]
  },
  {
   "cell_type": "code",
   "execution_count": 59,
   "metadata": {},
   "outputs": [],
   "source": [
    "f = open('json_datasets/dev.json', 'r')\n",
    "\n",
    "raw_dev = json.load(f)"
   ]
  },
  {
   "cell_type": "code",
   "execution_count": 31,
   "metadata": {},
   "outputs": [],
   "source": [
    "import tqdm\n",
    "def train_model_supervised(model, num_relations, warmup_epochs = 3, learning_rate = 5.0e-5, epochs = 20):\n",
    "\t\"\"\"\n",
    "\t\"\"\"\n",
    "\n",
    "\t# Create model\n",
    "\toptimzer = torch.optim.Adam(model.model.parameters(), lr = learning_rate)\n",
    "\tbest_acc = 0\n",
    "\tstate_dict_clone = {k: v.clone() for k, v in model.model.state_dict().items()}\n",
    "\tfor p in range(epochs):\n",
    "\t\tmodel.model.train()\n",
    "\t\tif p < warmup_epochs:\n",
    "\t\t\tt, g = dp.create_cycle_dataloader(model.vocab.raw_data[:3550], 32, True)\n",
    "\t\t\tdataloader = t+g\n",
    "\n",
    "\t\telse:\n",
    "\t\t\tt, g = dp.create_cycle_dataloader(model.vocab.raw_data, 32, True)\n",
    "\t\t\tdataloader = t+g\n",
    "\t\t\n",
    "\t\tloss_this_epoch = 0.0\n",
    "\t\tfor index, batch in tqdm.tqdm(enumerate(dataloader)):\n",
    "\t\t\tpre_text, pre_ents = model.t2g_preprocess(batch)\n",
    "\n",
    "\t\t\tbs, _ = pre_text.shape\n",
    "\n",
    "\t\t\tmax_ents = max([len(ex['entities']) for ex in batch])\n",
    "\n",
    "\t\t\tlabels = torch.zeros((bs, max_ents, max_ents), dtype = torch.long)\n",
    "\t\t\tfor k, raw_json in enumerate(batch):\n",
    "\t\t\t\tlabels[k] = dp.relation2Indices(vocab, raw_json, max_ents)\n",
    "    \n",
    "\t\t\tlog_probs = model.model(pre_text, pre_ents, torch.tensor(max_ents))\n",
    "\n",
    "\t\t\tloss = F.nll_loss(log_probs.view(-1, num_relations), labels.view(-1), ignore_index = 0)\n",
    "\t\t\tloss_this_epoch += loss.item()\n",
    "\t\t\toptimzer.zero_grad()\n",
    "\t\t\tloss.backward()\n",
    "\t\t\t# torch.nn.utils.clip_grad_norm_(\n",
    "\t\t\t#     [p for group in optimzer.param_groups for p in group['params']], CLIP)\n",
    "\t\t\toptimzer.step()\n",
    "\n",
    "\t\tprint(\"Evaluating: \")\n",
    "\t\tmicro, macro = model.eval_t2g(raw_dev)\n",
    "\t\tif (micro + macro)/2 > best_acc:\n",
    "\t\t\tbest_acc = (micro+macro)/2\n",
    "\t\t\tcurr_state_dict = model.model.state_dict()\n",
    "\t\t\tfor key in state_dict_clone.keys():\n",
    "\t\t\t\tstate_dict_clone[key].copy_(curr_state_dict[key])\n",
    "\t\t\n",
    "\n",
    "\t\tprint(\"Loss this epoch: \", loss_this_epoch/len(dataloader)*32)\n",
    "\n",
    "\tcurr_state_dict = model.model.state_dict()\n",
    "\tfor key in state_dict_clone.keys():\n",
    "\t\tcurr_state_dict[key].copy_(state_dict_clone[key])\n",
    "\n",
    "\tprint(\"saving model\")\n",
    "\ttorch.save(curr_state_dict, \"sup_t2g_dict\")\n",
    "\treturn curr_state_dict"
   ]
  },
  {
   "cell_type": "code",
   "execution_count": 63,
   "metadata": {},
   "outputs": [
    {
     "name": "stderr",
     "output_type": "stream",
     "text": [
      "112it [00:38,  2.87it/s]\n"
     ]
    },
    {
     "name": "stdout",
     "output_type": "stream",
     "text": [
      "Evaluating: \n",
      "Micro F1:  0.3147794860285041\n",
      "Macro F1:  0.2877418594686414\n",
      "Loss this epoch:  19.134619644709996\n"
     ]
    },
    {
     "name": "stderr",
     "output_type": "stream",
     "text": [
      "112it [00:39,  2.84it/s]\n"
     ]
    },
    {
     "name": "stdout",
     "output_type": "stream",
     "text": [
      "Evaluating: \n",
      "Micro F1:  0.3136572775221636\n",
      "Macro F1:  0.313536738101139\n",
      "Loss this epoch:  7.801497391292027\n"
     ]
    },
    {
     "name": "stderr",
     "output_type": "stream",
     "text": [
      "112it [00:39,  2.82it/s]\n"
     ]
    },
    {
     "name": "stdout",
     "output_type": "stream",
     "text": [
      "Evaluating: \n",
      "Micro F1:  0.30366962181573337\n",
      "Macro F1:  0.3286502406675935\n",
      "Loss this epoch:  4.108408265880176\n"
     ]
    },
    {
     "name": "stderr",
     "output_type": "stream",
     "text": [
      "408it [05:23,  1.26it/s]\n"
     ]
    },
    {
     "name": "stdout",
     "output_type": "stream",
     "text": [
      "Evaluating: \n",
      "Micro F1:  0.889574682976097\n",
      "Macro F1:  0.6632417750633345\n",
      "Loss this epoch:  20.380990314717387\n"
     ]
    },
    {
     "name": "stderr",
     "output_type": "stream",
     "text": [
      "408it [05:25,  1.25it/s]\n"
     ]
    },
    {
     "name": "stdout",
     "output_type": "stream",
     "text": [
      "Evaluating: \n",
      "Micro F1:  0.9426551453260016\n",
      "Macro F1:  0.787299715101523\n",
      "Loss this epoch:  6.944567600886027\n"
     ]
    },
    {
     "name": "stderr",
     "output_type": "stream",
     "text": [
      "408it [05:20,  1.27it/s]\n"
     ]
    },
    {
     "name": "stdout",
     "output_type": "stream",
     "text": [
      "Evaluating: \n",
      "Micro F1:  0.9535405678375042\n",
      "Macro F1:  0.8225576085950439\n",
      "Loss this epoch:  3.652829088416754\n"
     ]
    },
    {
     "name": "stderr",
     "output_type": "stream",
     "text": [
      "408it [05:24,  1.26it/s]\n"
     ]
    },
    {
     "name": "stdout",
     "output_type": "stream",
     "text": [
      "Evaluating: \n",
      "Micro F1:  0.9587027269666704\n",
      "Macro F1:  0.8488844686926321\n",
      "Loss this epoch:  2.2575922634671715\n"
     ]
    },
    {
     "name": "stderr",
     "output_type": "stream",
     "text": [
      "408it [05:24,  1.26it/s]\n"
     ]
    },
    {
     "name": "stdout",
     "output_type": "stream",
     "text": [
      "Evaluating: \n",
      "Micro F1:  0.9640893277971047\n",
      "Macro F1:  0.8918813639272277\n",
      "Loss this epoch:  1.5432427749037743\n"
     ]
    },
    {
     "name": "stderr",
     "output_type": "stream",
     "text": [
      "408it [05:23,  1.26it/s]\n"
     ]
    },
    {
     "name": "stdout",
     "output_type": "stream",
     "text": [
      "Evaluating: \n",
      "Micro F1:  0.9691392660756368\n",
      "Macro F1:  0.8938737769987949\n",
      "Loss this epoch:  1.1086908093124044\n"
     ]
    },
    {
     "name": "stderr",
     "output_type": "stream",
     "text": [
      "408it [05:21,  1.27it/s]\n"
     ]
    },
    {
     "name": "stdout",
     "output_type": "stream",
     "text": [
      "Evaluating: \n",
      "Micro F1:  0.9675681741667602\n",
      "Macro F1:  0.8931232491485994\n",
      "Loss this epoch:  0.877898744837034\n"
     ]
    },
    {
     "name": "stderr",
     "output_type": "stream",
     "text": [
      "408it [05:22,  1.26it/s]\n"
     ]
    },
    {
     "name": "stdout",
     "output_type": "stream",
     "text": [
      "Evaluating: \n",
      "Micro F1:  0.9688026035237347\n",
      "Macro F1:  0.8981616302385443\n",
      "Loss this epoch:  0.735623373777843\n"
     ]
    },
    {
     "name": "stderr",
     "output_type": "stream",
     "text": [
      "408it [05:21,  1.27it/s]\n"
     ]
    },
    {
     "name": "stdout",
     "output_type": "stream",
     "text": [
      "Evaluating: \n",
      "Micro F1:  0.9700370328807092\n",
      "Macro F1:  0.9017985048863196\n",
      "Loss this epoch:  0.6134685056612772\n"
     ]
    },
    {
     "name": "stderr",
     "output_type": "stream",
     "text": [
      "408it [05:21,  1.27it/s]\n"
     ]
    },
    {
     "name": "stdout",
     "output_type": "stream",
     "text": [
      "Evaluating: \n",
      "Micro F1:  0.9699248120300752\n",
      "Macro F1:  0.9171596885920368\n",
      "Loss this epoch:  0.5616663481090584\n"
     ]
    },
    {
     "name": "stderr",
     "output_type": "stream",
     "text": [
      "408it [05:21,  1.27it/s]\n"
     ]
    },
    {
     "name": "stdout",
     "output_type": "stream",
     "text": [
      "Evaluating: \n",
      "Micro F1:  0.9711592413870497\n",
      "Macro F1:  0.9135588628918783\n",
      "Loss this epoch:  0.5221144515728834\n"
     ]
    },
    {
     "name": "stderr",
     "output_type": "stream",
     "text": [
      "408it [05:33,  1.22it/s]\n"
     ]
    },
    {
     "name": "stdout",
     "output_type": "stream",
     "text": [
      "Evaluating: \n",
      "Micro F1:  0.9707103579845135\n",
      "Macro F1:  0.9095904290503466\n",
      "Loss this epoch:  0.47885655672015515\n"
     ]
    },
    {
     "name": "stderr",
     "output_type": "stream",
     "text": [
      "408it [05:51,  1.16it/s]\n"
     ]
    },
    {
     "name": "stdout",
     "output_type": "stream",
     "text": [
      "Evaluating: \n",
      "Micro F1:  0.9717203456402199\n",
      "Macro F1:  0.9067088408348797\n",
      "Loss this epoch:  0.41459838233376833\n"
     ]
    },
    {
     "name": "stderr",
     "output_type": "stream",
     "text": [
      "408it [05:21,  1.27it/s]\n"
     ]
    },
    {
     "name": "stdout",
     "output_type": "stream",
     "text": [
      "Evaluating: \n",
      "Micro F1:  0.9692514869262709\n",
      "Macro F1:  0.9051281406476812\n",
      "Loss this epoch:  0.38651329441470844\n"
     ]
    },
    {
     "name": "stderr",
     "output_type": "stream",
     "text": [
      "408it [05:28,  1.24it/s]\n"
     ]
    },
    {
     "name": "stdout",
     "output_type": "stream",
     "text": [
      "Evaluating: \n",
      "Micro F1:  0.9710470205364157\n",
      "Macro F1:  0.9118795646956618\n",
      "Loss this epoch:  0.34094837370931225\n"
     ]
    },
    {
     "name": "stderr",
     "output_type": "stream",
     "text": [
      "408it [05:22,  1.26it/s]\n"
     ]
    },
    {
     "name": "stdout",
     "output_type": "stream",
     "text": [
      "Evaluating: \n",
      "Micro F1:  0.9709347996857817\n",
      "Macro F1:  0.9061206919229854\n",
      "Loss this epoch:  0.3152650249939339\n"
     ]
    },
    {
     "name": "stderr",
     "output_type": "stream",
     "text": [
      "408it [05:18,  1.28it/s]\n"
     ]
    },
    {
     "name": "stdout",
     "output_type": "stream",
     "text": [
      "Evaluating: \n",
      "Micro F1:  0.9704859162832454\n",
      "Macro F1:  0.9088879613338899\n",
      "Loss this epoch:  0.33369245508904843\n",
      "saving model\n"
     ]
    },
    {
     "ename": "AttributeError",
     "evalue": "'collections.OrderedDict' object has no attribute 'seek'. You can only torch.load from a file that is seekable. Please pre-load the data into a buffer like io.BytesIO and try to load from it instead.",
     "output_type": "error",
     "traceback": [
      "\u001b[1;31m---------------------------------------------------------------------------\u001b[0m",
      "\u001b[1;31mAttributeError\u001b[0m                            Traceback (most recent call last)",
      "\u001b[1;32m~\\anaconda3\\envs\\recyclegt\\lib\\site-packages\\torch\\serialization.py\u001b[0m in \u001b[0;36m_check_seekable\u001b[1;34m(f)\u001b[0m\n\u001b[0;32m    307\u001b[0m     \u001b[1;32mtry\u001b[0m\u001b[1;33m:\u001b[0m\u001b[1;33m\u001b[0m\u001b[1;33m\u001b[0m\u001b[0m\n\u001b[1;32m--> 308\u001b[1;33m         \u001b[0mf\u001b[0m\u001b[1;33m.\u001b[0m\u001b[0mseek\u001b[0m\u001b[1;33m(\u001b[0m\u001b[0mf\u001b[0m\u001b[1;33m.\u001b[0m\u001b[0mtell\u001b[0m\u001b[1;33m(\u001b[0m\u001b[1;33m)\u001b[0m\u001b[1;33m)\u001b[0m\u001b[1;33m\u001b[0m\u001b[1;33m\u001b[0m\u001b[0m\n\u001b[0m\u001b[0;32m    309\u001b[0m         \u001b[1;32mreturn\u001b[0m \u001b[1;32mTrue\u001b[0m\u001b[1;33m\u001b[0m\u001b[1;33m\u001b[0m\u001b[0m\n",
      "\u001b[1;31mAttributeError\u001b[0m: 'collections.OrderedDict' object has no attribute 'seek'",
      "\nDuring handling of the above exception, another exception occurred:\n",
      "\u001b[1;31mAttributeError\u001b[0m                            Traceback (most recent call last)",
      "\u001b[1;32m~\\AppData\\Local\\Temp/ipykernel_27144/1928170939.py\u001b[0m in \u001b[0;36m<module>\u001b[1;34m\u001b[0m\n\u001b[0;32m      6\u001b[0m \u001b[1;33m\u001b[0m\u001b[0m\n\u001b[0;32m      7\u001b[0m \u001b[0mnewt2g\u001b[0m \u001b[1;33m=\u001b[0m \u001b[0mT2GModel\u001b[0m\u001b[1;33m(\u001b[0m\u001b[0mvocab\u001b[0m\u001b[1;33m,\u001b[0m \u001b[0mtorch\u001b[0m\u001b[1;33m.\u001b[0m\u001b[0mdevice\u001b[0m\u001b[1;33m(\u001b[0m\u001b[1;34m'cpu'\u001b[0m\u001b[1;33m)\u001b[0m\u001b[1;33m,\u001b[0m \u001b[1;36m512\u001b[0m\u001b[1;33m)\u001b[0m\u001b[1;33m\u001b[0m\u001b[1;33m\u001b[0m\u001b[0m\n\u001b[1;32m----> 8\u001b[1;33m \u001b[0mnewt2g\u001b[0m\u001b[1;33m.\u001b[0m\u001b[0mmodel\u001b[0m\u001b[1;33m.\u001b[0m\u001b[0mload_state_dict\u001b[0m\u001b[1;33m(\u001b[0m\u001b[0mtorch\u001b[0m\u001b[1;33m.\u001b[0m\u001b[0mload\u001b[0m\u001b[1;33m(\u001b[0m\u001b[0mstate_dict\u001b[0m\u001b[1;33m)\u001b[0m\u001b[1;33m)\u001b[0m\u001b[1;33m\u001b[0m\u001b[1;33m\u001b[0m\u001b[0m\n\u001b[0m\u001b[0;32m      9\u001b[0m \u001b[1;33m\u001b[0m\u001b[0m\n\u001b[0;32m     10\u001b[0m \u001b[0mnewt2g\u001b[0m\u001b[1;33m.\u001b[0m\u001b[0mmodel\u001b[0m\u001b[1;33m.\u001b[0m\u001b[0meval_t2g\u001b[0m\u001b[1;33m(\u001b[0m\u001b[0mraw_test\u001b[0m\u001b[1;33m)\u001b[0m\u001b[1;33m\u001b[0m\u001b[1;33m\u001b[0m\u001b[0m\n",
      "\u001b[1;32m~\\anaconda3\\envs\\recyclegt\\lib\\site-packages\\torch\\serialization.py\u001b[0m in \u001b[0;36mload\u001b[1;34m(f, map_location, pickle_module, **pickle_load_args)\u001b[0m\n\u001b[0;32m    592\u001b[0m         \u001b[0mpickle_load_args\u001b[0m\u001b[1;33m[\u001b[0m\u001b[1;34m'encoding'\u001b[0m\u001b[1;33m]\u001b[0m \u001b[1;33m=\u001b[0m \u001b[1;34m'utf-8'\u001b[0m\u001b[1;33m\u001b[0m\u001b[1;33m\u001b[0m\u001b[0m\n\u001b[0;32m    593\u001b[0m \u001b[1;33m\u001b[0m\u001b[0m\n\u001b[1;32m--> 594\u001b[1;33m     \u001b[1;32mwith\u001b[0m \u001b[0m_open_file_like\u001b[0m\u001b[1;33m(\u001b[0m\u001b[0mf\u001b[0m\u001b[1;33m,\u001b[0m \u001b[1;34m'rb'\u001b[0m\u001b[1;33m)\u001b[0m \u001b[1;32mas\u001b[0m \u001b[0mopened_file\u001b[0m\u001b[1;33m:\u001b[0m\u001b[1;33m\u001b[0m\u001b[1;33m\u001b[0m\u001b[0m\n\u001b[0m\u001b[0;32m    595\u001b[0m         \u001b[1;32mif\u001b[0m \u001b[0m_is_zipfile\u001b[0m\u001b[1;33m(\u001b[0m\u001b[0mopened_file\u001b[0m\u001b[1;33m)\u001b[0m\u001b[1;33m:\u001b[0m\u001b[1;33m\u001b[0m\u001b[1;33m\u001b[0m\u001b[0m\n\u001b[0;32m    596\u001b[0m             \u001b[1;31m# The zipfile reader is going to advance the current file position.\u001b[0m\u001b[1;33m\u001b[0m\u001b[1;33m\u001b[0m\u001b[0m\n",
      "\u001b[1;32m~\\anaconda3\\envs\\recyclegt\\lib\\site-packages\\torch\\serialization.py\u001b[0m in \u001b[0;36m_open_file_like\u001b[1;34m(name_or_buffer, mode)\u001b[0m\n\u001b[0;32m    233\u001b[0m             \u001b[1;32mreturn\u001b[0m \u001b[0m_open_buffer_writer\u001b[0m\u001b[1;33m(\u001b[0m\u001b[0mname_or_buffer\u001b[0m\u001b[1;33m)\u001b[0m\u001b[1;33m\u001b[0m\u001b[1;33m\u001b[0m\u001b[0m\n\u001b[0;32m    234\u001b[0m         \u001b[1;32melif\u001b[0m \u001b[1;34m'r'\u001b[0m \u001b[1;32min\u001b[0m \u001b[0mmode\u001b[0m\u001b[1;33m:\u001b[0m\u001b[1;33m\u001b[0m\u001b[1;33m\u001b[0m\u001b[0m\n\u001b[1;32m--> 235\u001b[1;33m             \u001b[1;32mreturn\u001b[0m \u001b[0m_open_buffer_reader\u001b[0m\u001b[1;33m(\u001b[0m\u001b[0mname_or_buffer\u001b[0m\u001b[1;33m)\u001b[0m\u001b[1;33m\u001b[0m\u001b[1;33m\u001b[0m\u001b[0m\n\u001b[0m\u001b[0;32m    236\u001b[0m         \u001b[1;32melse\u001b[0m\u001b[1;33m:\u001b[0m\u001b[1;33m\u001b[0m\u001b[1;33m\u001b[0m\u001b[0m\n\u001b[0;32m    237\u001b[0m             \u001b[1;32mraise\u001b[0m \u001b[0mRuntimeError\u001b[0m\u001b[1;33m(\u001b[0m\u001b[1;34mf\"Expected 'r' or 'w' in mode but got {mode}\"\u001b[0m\u001b[1;33m)\u001b[0m\u001b[1;33m\u001b[0m\u001b[1;33m\u001b[0m\u001b[0m\n",
      "\u001b[1;32m~\\anaconda3\\envs\\recyclegt\\lib\\site-packages\\torch\\serialization.py\u001b[0m in \u001b[0;36m__init__\u001b[1;34m(self, buffer)\u001b[0m\n\u001b[0;32m    218\u001b[0m     \u001b[1;32mdef\u001b[0m \u001b[0m__init__\u001b[0m\u001b[1;33m(\u001b[0m\u001b[0mself\u001b[0m\u001b[1;33m,\u001b[0m \u001b[0mbuffer\u001b[0m\u001b[1;33m)\u001b[0m\u001b[1;33m:\u001b[0m\u001b[1;33m\u001b[0m\u001b[1;33m\u001b[0m\u001b[0m\n\u001b[0;32m    219\u001b[0m         \u001b[0msuper\u001b[0m\u001b[1;33m(\u001b[0m\u001b[0m_open_buffer_reader\u001b[0m\u001b[1;33m,\u001b[0m \u001b[0mself\u001b[0m\u001b[1;33m)\u001b[0m\u001b[1;33m.\u001b[0m\u001b[0m__init__\u001b[0m\u001b[1;33m(\u001b[0m\u001b[0mbuffer\u001b[0m\u001b[1;33m)\u001b[0m\u001b[1;33m\u001b[0m\u001b[1;33m\u001b[0m\u001b[0m\n\u001b[1;32m--> 220\u001b[1;33m         \u001b[0m_check_seekable\u001b[0m\u001b[1;33m(\u001b[0m\u001b[0mbuffer\u001b[0m\u001b[1;33m)\u001b[0m\u001b[1;33m\u001b[0m\u001b[1;33m\u001b[0m\u001b[0m\n\u001b[0m\u001b[0;32m    221\u001b[0m \u001b[1;33m\u001b[0m\u001b[0m\n\u001b[0;32m    222\u001b[0m \u001b[1;33m\u001b[0m\u001b[0m\n",
      "\u001b[1;32m~\\anaconda3\\envs\\recyclegt\\lib\\site-packages\\torch\\serialization.py\u001b[0m in \u001b[0;36m_check_seekable\u001b[1;34m(f)\u001b[0m\n\u001b[0;32m    309\u001b[0m         \u001b[1;32mreturn\u001b[0m \u001b[1;32mTrue\u001b[0m\u001b[1;33m\u001b[0m\u001b[1;33m\u001b[0m\u001b[0m\n\u001b[0;32m    310\u001b[0m     \u001b[1;32mexcept\u001b[0m \u001b[1;33m(\u001b[0m\u001b[0mio\u001b[0m\u001b[1;33m.\u001b[0m\u001b[0mUnsupportedOperation\u001b[0m\u001b[1;33m,\u001b[0m \u001b[0mAttributeError\u001b[0m\u001b[1;33m)\u001b[0m \u001b[1;32mas\u001b[0m \u001b[0me\u001b[0m\u001b[1;33m:\u001b[0m\u001b[1;33m\u001b[0m\u001b[1;33m\u001b[0m\u001b[0m\n\u001b[1;32m--> 311\u001b[1;33m         \u001b[0mraise_err_msg\u001b[0m\u001b[1;33m(\u001b[0m\u001b[1;33m[\u001b[0m\u001b[1;34m\"seek\"\u001b[0m\u001b[1;33m,\u001b[0m \u001b[1;34m\"tell\"\u001b[0m\u001b[1;33m]\u001b[0m\u001b[1;33m,\u001b[0m \u001b[0me\u001b[0m\u001b[1;33m)\u001b[0m\u001b[1;33m\u001b[0m\u001b[1;33m\u001b[0m\u001b[0m\n\u001b[0m\u001b[0;32m    312\u001b[0m     \u001b[1;32mreturn\u001b[0m \u001b[1;32mFalse\u001b[0m\u001b[1;33m\u001b[0m\u001b[1;33m\u001b[0m\u001b[0m\n\u001b[0;32m    313\u001b[0m \u001b[1;33m\u001b[0m\u001b[0m\n",
      "\u001b[1;32m~\\anaconda3\\envs\\recyclegt\\lib\\site-packages\\torch\\serialization.py\u001b[0m in \u001b[0;36mraise_err_msg\u001b[1;34m(patterns, e)\u001b[0m\n\u001b[0;32m    302\u001b[0m                                 \u001b[1;33m+\u001b[0m \u001b[1;34m\" Please pre-load the data into a buffer like io.BytesIO and\"\u001b[0m\u001b[1;33m\u001b[0m\u001b[1;33m\u001b[0m\u001b[0m\n\u001b[0;32m    303\u001b[0m                                 + \" try to load from it instead.\")\n\u001b[1;32m--> 304\u001b[1;33m                 \u001b[1;32mraise\u001b[0m \u001b[0mtype\u001b[0m\u001b[1;33m(\u001b[0m\u001b[0me\u001b[0m\u001b[1;33m)\u001b[0m\u001b[1;33m(\u001b[0m\u001b[0mmsg\u001b[0m\u001b[1;33m)\u001b[0m\u001b[1;33m\u001b[0m\u001b[1;33m\u001b[0m\u001b[0m\n\u001b[0m\u001b[0;32m    305\u001b[0m         \u001b[1;32mraise\u001b[0m \u001b[0me\u001b[0m\u001b[1;33m\u001b[0m\u001b[1;33m\u001b[0m\u001b[0m\n\u001b[0;32m    306\u001b[0m \u001b[1;33m\u001b[0m\u001b[0m\n",
      "\u001b[1;31mAttributeError\u001b[0m: 'collections.OrderedDict' object has no attribute 'seek'. You can only torch.load from a file that is seekable. Please pre-load the data into a buffer like io.BytesIO and try to load from it instead."
     ]
    }
   ],
   "source": [
    "\n",
    "f = open('json_datasets/test.json', 'r')\n",
    "\n",
    "raw_test = json.load(f)\n",
    "\n",
    "state_dict = train_model_supervised(t2g_model, rel_types)\n",
    "\n",
    "newt2g = T2GModel(vocab, torch.device('cpu'), 512)\n",
    "newt2g.model.load_state_dict(torch.load(state_dict))\n",
    "\n",
    "newt2g.model.eval_t2g(raw_test)"
   ]
  },
  {
   "cell_type": "code",
   "execution_count": 40,
   "metadata": {},
   "outputs": [
    {
     "name": "stdout",
     "output_type": "stream",
     "text": [
      "1.0\n",
      "1.0\n"
     ]
    }
   ],
   "source": [
    "\n",
    "f = open('json_datasets/test.json', 'r')\n",
    "\n",
    "raw_test = json.load(f)\n",
    "\n",
    "import random\n",
    "indices = np.arange(0, len(raw_test))\n",
    "random.shuffle(indices)\n",
    "\n",
    "\n",
    "index = 0\n",
    "tr = pre = []\n",
    "\n",
    "newt2g = T2GModel(vocab, torch.device('cpu'), 512)\n",
    "newt2g.model.load_state_dict(torch.load('sup_t2g_dict'))\n",
    "while index + 100 < len(raw_test):\n",
    "\t_,_, t, p = newt2g.eval_t2g(raw_test[index: index+100])\n",
    "\ttr.extend(t)\n",
    "\tpre.extend(p)\n",
    "\tindex += 100\n",
    "\n",
    "print(f1_score(tr, pre, average = \"micro\"))\n",
    "print(f1_score(tr, pre, average = \"macro\"))\n",
    "\n",
    "# newt2g = T2GModel(vocab, torch.device('cpu'), 512)\n",
    "# newt2g.model.load_state_dict(torch.load('sup_t2g_dict_jeff'))\n",
    "# newt2g.eval_t2g(np.array(raw_test)[indices])"
   ]
  },
  {
   "cell_type": "code",
   "execution_count": 48,
   "metadata": {},
   "outputs": [
    {
     "ename": "AttributeError",
     "evalue": "'numpy.ndarray' object has no attribute 'reverse'",
     "output_type": "error",
     "traceback": [
      "\u001b[1;31m---------------------------------------------------------------------------\u001b[0m",
      "\u001b[1;31mAttributeError\u001b[0m                            Traceback (most recent call last)",
      "\u001b[1;32m~\\AppData\\Local\\Temp/ipykernel_29408/3671457964.py\u001b[0m in \u001b[0;36m<module>\u001b[1;34m\u001b[0m\n\u001b[1;32m----> 1\u001b[1;33m \u001b[0mnp\u001b[0m\u001b[1;33m.\u001b[0m\u001b[0marray\u001b[0m\u001b[1;33m(\u001b[0m\u001b[0mraw_test\u001b[0m\u001b[1;33m)\u001b[0m\u001b[1;33m[\u001b[0m\u001b[1;33m:\u001b[0m\u001b[1;36m100\u001b[0m\u001b[1;33m]\u001b[0m\u001b[1;33m.\u001b[0m\u001b[0mreverse\u001b[0m\u001b[1;33m(\u001b[0m\u001b[1;33m)\u001b[0m\u001b[1;33m\u001b[0m\u001b[1;33m\u001b[0m\u001b[0m\n\u001b[0m",
      "\u001b[1;31mAttributeError\u001b[0m: 'numpy.ndarray' object has no attribute 'reverse'"
     ]
    }
   ],
   "source": [
    "np.array(raw_test)[:100]"
   ]
  },
  {
   "cell_type": "code",
   "execution_count": 45,
   "metadata": {},
   "outputs": [],
   "source": [
    "micro, macro, t, p = newt2g.eval_t2g(np.array(raw_test)[:100])"
   ]
  },
  {
   "cell_type": "code",
   "execution_count": 46,
   "metadata": {},
   "outputs": [
    {
     "name": "stdout",
     "output_type": "stream",
     "text": [
      "0.8599999999999999 0.7165378662556082\n"
     ]
    }
   ],
   "source": [
    "print(micro, macro)"
   ]
  },
  {
   "cell_type": "code",
   "execution_count": 18,
   "metadata": {},
   "outputs": [
    {
     "data": {
      "text/plain": [
       "{'relations': [[['Bionico'], 'country', ['Mexico']],\n",
       "  [['Bionico'], 'course', ['Dessert']],\n",
       "  [['Bionico'], 'region', ['Jalisco']],\n",
       "  [['Bionico'], 'ingredient', ['Granola']]],\n",
       " 'text': 'the <ENT_2> -based <ENT_3> <ENT_0> is a food found in <ENT_1> , <ENT_4> .',\n",
       " 'entities': [['Bionico'], ['Jalisco'], ['Granola'], ['Dessert'], ['Mexico']]}"
      ]
     },
     "execution_count": 18,
     "metadata": {},
     "output_type": "execute_result"
    }
   ],
   "source": [
    "raw_test[2000]"
   ]
  },
  {
   "cell_type": "code",
   "execution_count": 86,
   "metadata": {},
   "outputs": [
    {
     "name": "stdout",
     "output_type": "stream",
     "text": [
      "tensor([   2,  551,    1,  884,   55, 3037,    1,  520,  568,  522,    1,    1,\n",
      "           1,    3]) tensor([], dtype=torch.int64)\n",
      "14 0 0\n"
     ]
    },
    {
     "ename": "RuntimeError",
     "evalue": "The expanded size of the tensor (3) must match the existing size (0) at non-singleton dimension 1.  Target sizes: [0, 3].  Tensor sizes: [0]",
     "output_type": "error",
     "traceback": [
      "\u001b[1;31m---------------------------------------------------------------------------\u001b[0m",
      "\u001b[1;31mRuntimeError\u001b[0m                              Traceback (most recent call last)",
      "\u001b[1;32m~\\AppData\\Local\\Temp/ipykernel_27144/535021700.py\u001b[0m in \u001b[0;36m<module>\u001b[1;34m\u001b[0m\n\u001b[1;32m----> 1\u001b[1;33m \u001b[0mnewt2g\u001b[0m\u001b[1;33m.\u001b[0m\u001b[0mt2g_preprocess\u001b[0m\u001b[1;33m(\u001b[0m\u001b[0mraw_test\u001b[0m\u001b[1;33m[\u001b[0m\u001b[1;36m940\u001b[0m\u001b[1;33m:\u001b[0m\u001b[1;36m941\u001b[0m\u001b[1;33m]\u001b[0m\u001b[1;33m)\u001b[0m\u001b[1;33m\u001b[0m\u001b[1;33m\u001b[0m\u001b[0m\n\u001b[0m",
      "\u001b[1;32m~\\AppData\\Local\\Temp/ipykernel_27144/3195792794.py\u001b[0m in \u001b[0;36mt2g_preprocess\u001b[1;34m(self, batch)\u001b[0m\n\u001b[0;32m    160\u001b[0m                                 \u001b[0mprint\u001b[0m\u001b[1;33m(\u001b[0m\u001b[0mlen\u001b[0m\u001b[1;33m(\u001b[0m\u001b[0mtemp_text\u001b[0m\u001b[1;33m[\u001b[0m\u001b[0mk\u001b[0m\u001b[1;33m]\u001b[0m\u001b[1;33m)\u001b[0m\u001b[1;33m,\u001b[0m \u001b[0mlen\u001b[0m\u001b[1;33m(\u001b[0m\u001b[0mtemp_inds\u001b[0m\u001b[1;33m[\u001b[0m\u001b[0mk\u001b[0m\u001b[1;33m]\u001b[0m\u001b[1;33m)\u001b[0m\u001b[1;33m,\u001b[0m \u001b[0mk\u001b[0m\u001b[1;33m)\u001b[0m\u001b[1;33m\u001b[0m\u001b[1;33m\u001b[0m\u001b[0m\n\u001b[0;32m    161\u001b[0m                                 \u001b[0mfinal_text\u001b[0m\u001b[1;33m[\u001b[0m\u001b[0mk\u001b[0m\u001b[1;33m]\u001b[0m\u001b[1;33m[\u001b[0m\u001b[1;33m:\u001b[0m\u001b[0mlen\u001b[0m\u001b[1;33m(\u001b[0m\u001b[0mtemp_text\u001b[0m\u001b[1;33m[\u001b[0m\u001b[0mk\u001b[0m\u001b[1;33m]\u001b[0m\u001b[1;33m)\u001b[0m\u001b[1;33m]\u001b[0m \u001b[1;33m=\u001b[0m \u001b[0mtemp_text\u001b[0m\u001b[1;33m[\u001b[0m\u001b[0mk\u001b[0m\u001b[1;33m]\u001b[0m\u001b[1;33m\u001b[0m\u001b[1;33m\u001b[0m\u001b[0m\n\u001b[1;32m--> 162\u001b[1;33m                                 \u001b[0mfinal_ents\u001b[0m\u001b[1;33m[\u001b[0m\u001b[0mk\u001b[0m\u001b[1;33m]\u001b[0m\u001b[1;33m[\u001b[0m\u001b[1;33m:\u001b[0m\u001b[0mlen\u001b[0m\u001b[1;33m(\u001b[0m\u001b[0mtemp_inds\u001b[0m\u001b[1;33m[\u001b[0m\u001b[0mk\u001b[0m\u001b[1;33m]\u001b[0m\u001b[1;33m)\u001b[0m\u001b[1;33m]\u001b[0m \u001b[1;33m=\u001b[0m \u001b[0mtemp_inds\u001b[0m\u001b[1;33m[\u001b[0m\u001b[0mk\u001b[0m\u001b[1;33m]\u001b[0m\u001b[1;33m\u001b[0m\u001b[1;33m\u001b[0m\u001b[0m\n\u001b[0m\u001b[0;32m    163\u001b[0m \u001b[1;33m\u001b[0m\u001b[0m\n\u001b[0;32m    164\u001b[0m                         \u001b[1;32mreturn\u001b[0m \u001b[0mfinal_text\u001b[0m\u001b[1;33m,\u001b[0m \u001b[0mfinal_ents\u001b[0m\u001b[1;33m\u001b[0m\u001b[1;33m\u001b[0m\u001b[0m\n",
      "\u001b[1;31mRuntimeError\u001b[0m: The expanded size of the tensor (3) must match the existing size (0) at non-singleton dimension 1.  Target sizes: [0, 3].  Tensor sizes: [0]"
     ]
    }
   ],
   "source": [
    "newt2g.t2g_preprocess(raw_test[940:941])"
   ]
  },
  {
   "cell_type": "code",
   "execution_count": 34,
   "metadata": {},
   "outputs": [
    {
     "data": {
      "text/plain": [
       "0.5555555555555555"
      ]
     },
     "execution_count": 34,
     "metadata": {},
     "output_type": "execute_result"
    }
   ],
   "source": [
    "y_true = [torch.tensor(1),torch.tensor(0),torch.tensor(1),torch.tensor(0)]\n",
    "y_pred = [torch.tensor(2),torch.tensor(0),torch.tensor(1),torch.tensor(0)]\n",
    "\n",
    "f1_score(y_true=y_true, y_pred=y_pred, average = \"macro\")"
   ]
  },
  {
   "cell_type": "code",
   "execution_count": 4,
   "metadata": {},
   "outputs": [
    {
     "name": "stderr",
     "output_type": "stream",
     "text": [
      "C:\\Users\\Jeffrey\\AppData\\Local\\Temp/ipykernel_29408/3060068809.py:12: UserWarning: Matplotlib is currently using module://matplotlib_inline.backend_inline, which is a non-GUI backend, so cannot show the figure.\n",
      "  fig.show()\n"
     ]
    },
    {
     "data": {
      "image/png": "[encoded data removed]",
      "text/plain": [
       "<Figure size 720x360 with 1 Axes>"
      ]
     },
     "metadata": {
      "needs_background": "light"
     },
     "output_type": "display_data"
    }
   ],
   "source": [
    "micro_array = [0.3147794860285041, 0.3136572775221636, 0.30366962181573337, 0.889574682976097, 0.9535405678375042, 0.9587027269666704, 0.9640893277971047, 0.9691392660756368, 0.9675681741667602, 0.9688026035237347, 0.9700370328807092, 0.9699248120300752, 0.9711592413870497, 0.9707103579845135, 0.9717203456402199, 0.9692514869262709, 0.9710470205364157, 0.9709347996857817, 0.9704859162832454]\n",
    "macro_array = [0.2877418594686414, 0.313536738101139, 0.3286502406675935, 0.6632417750633345, 0.8225576085950439, 0.8488844686926321, 0.8918813639272277, 0.8938737769987949, 0.8931232491485994, 0.8981616302385443, 0.9017985048863196, 0.9171596885920368, 0.9135588628918783, 0.9095904290503466, 0.9067088408348797, 0.9051281406476812, 0.9118795646956618, 0.9061206919229854, 0.9088879613338899]\n",
    "\n",
    "\n",
    "import matplotlib.pyplot as plt\n",
    "fig = plt.figure(figsize = (10,5))\n",
    "ax = fig.add_axes([0,0,1,1])\n",
    "ax.plot([tuple([type[i-1] for type in [micro_array, macro_array]]) for i in range(1, 20)])\n",
    "plt.xlabel(\"Epoch\")\n",
    "plt.ylabel(\"Model Performance on Dev Set\")\n",
    "fig.legend([\"Micro F1\", \"Macro F1\"])\n",
    "fig.show()"
   ]
  }
 ],
 "metadata": {
  "interpreter": {
   "hash": "9c5ce5b9604fc8445e4e5f27c24807def7cbbefbcd7dbec7e9c2f61ff534743b"
  },
  "kernelspec": {
   "display_name": "Python 3.9.7 64-bit ('recyclegt': conda)",
   "language": "python",
   "name": "python3"
  },
  "language_info": {
   "codemirror_mode": {
    "name": "ipython",
    "version": 3
   },
   "file_extension": ".py",
   "mimetype": "text/x-python",
   "name": "python",
   "nbconvert_exporter": "python",
   "pygments_lexer": "ipython3",
   "version": "3.9.7"
  },
  "orig_nbformat": 4
 },
 "nbformat": 4,
 "nbformat_minor": 2
}
