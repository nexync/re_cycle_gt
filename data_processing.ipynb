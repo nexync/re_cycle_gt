{
 "cells": [
  {
   "cell_type": "code",
   "execution_count": 18,
   "metadata": {},
   "outputs": [],
   "source": [
    "#Imports\n",
    "\n",
    "from collections import Counter\n",
    "\n",
    "import numpy as np\n",
    "import torch\n",
    "import torch.nn as nn\n",
    "import torch.nn.functional as F\n",
    "from torch import optim\n",
    "import time\n",
    "import tqdm\n",
    "import json"
   ]
  },
  {
   "cell_type": "code",
   "execution_count": 28,
   "metadata": {},
   "outputs": [],
   "source": [
    "# importing the module\n",
    "import json\n",
    "  \n",
    "# Opening JSON file\n",
    "f = open('json_datasets/train.json', 'r')\n",
    "\n",
    "raw_train = json.load(f)"
   ]
  },
  {
   "cell_type": "code",
   "execution_count": 99,
   "metadata": {},
   "outputs": [
    {
     "name": "stdout",
     "output_type": "stream",
     "text": [
      "Creating empty vocabulary object\n"
     ]
    },
    {
     "data": {
      "text/plain": [
       "<__main__.Vocabulary at 0x266409f9400>"
      ]
     },
     "execution_count": 99,
     "metadata": {},
     "output_type": "execute_result"
    }
   ],
   "source": [
    "vocab = Vocabulary()\n",
    "vocab.parseText(raw_train)"
   ]
  },
  {
   "cell_type": "code",
   "execution_count": 97,
   "metadata": {},
   "outputs": [],
   "source": [
    "class VocabCategory():\n",
    "\tdef __init__(self):\n",
    "\t\tself.wordlist = []\n",
    "\t\tself.word2idx = {}\n",
    "\t\tself.wordfreq = Counter()\n",
    "\n",
    "class Vocabulary():\n",
    "\tdef __init__(self):\n",
    "\t\tprint(\"Creating empty vocabulary object\")\n",
    "\t\tself.text = VocabCategory()\n",
    "\t\tself.entities = VocabCategory()\n",
    "\t\tself.relations = VocabCategory()\n",
    "\tdef parseSentence(self, raw_json_sentence):\n",
    "\t\tfor relation in raw_json_sentence['relations']: #Relation parsing here\n",
    "\t\t\tassert len(relation) == 3, \"CHECK THIS!\"\n",
    "\t\t\tif relation[1] not in self.relations.word2idx:\n",
    "\t\t\t\tself.relations.word2idx[relation[1]] = len(self.relations.wordlist)\n",
    "\t\t\t\tself.relations.wordlist.append(relation[1])\n",
    "\t\t\tself.relations.wordfreq.update({relation[1]: 1})\n",
    "\t\t\n",
    "\t\tfor word in raw_json_sentence['text'].split(): #Word parsing here\n",
    "\t\t\tif word not in self.text.word2idx:\n",
    "\t\t\t\tself.text.word2idx[word] = len(self.text.wordlist)\n",
    "\t\t\t\tself.text.wordlist.append(word)\n",
    "\t\tself.text.wordfreq += Counter(raw_json_sentence['text'].split())\n",
    "\n",
    "\t\tfor entity in raw_json_sentence['entities']:\n",
    "\t\t\tfor e in entity:\n",
    "\t\t\t\tif e not in self.entities.word2idx:\n",
    "\t\t\t\t\tself.entities.word2idx[e] = len(self.entities.wordlist)\n",
    "\t\t\t\t\tself.entities.wordlist.append(e)\n",
    "\t\t\tself.entities.wordfreq += Counter(entity)\n",
    "\t\n",
    "\tdef parseText(self, raw_json):\n",
    "\t\tfor raw_sentence in raw_json:\n",
    "\t\t\tself.parseSentence(raw_sentence)"
   ]
  }
 ],
 "metadata": {
  "interpreter": {
   "hash": "e04db361a4f8367a2d031f37306cd7dd06d0ce8a25d39dd9e4b8b2f9ddb79174"
  },
  "kernelspec": {
   "display_name": "Python 3.9.7 64-bit ('recyclegt': conda)",
   "name": "python3"
  },
  "language_info": {
   "codemirror_mode": {
    "name": "ipython",
    "version": 3
   },
   "file_extension": ".py",
   "mimetype": "text/x-python",
   "name": "python",
   "nbconvert_exporter": "python",
   "pygments_lexer": "ipython3",
   "version": "3.9.7"
  }
 },
 "nbformat": 4,
 "nbformat_minor": 4
}
