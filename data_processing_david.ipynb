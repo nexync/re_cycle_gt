{
 "cells": [
  {
   "cell_type": "code",
   "execution_count": 1,
   "metadata": {},
   "outputs": [],
   "source": [
    "#Imports\n",
    "\n",
    "from collections import Counter\n",
    "\n",
    "import numpy as np\n",
    "import torch\n",
    "import torch.nn as nn\n",
    "import torch.nn.functional as F\n",
    "from torch import optim\n",
    "import time\n",
    "import tqdm\n",
    "import json\n",
    "import re"
   ]
  },
  {
   "cell_type": "code",
   "execution_count": 2,
   "metadata": {},
   "outputs": [],
   "source": [
    "# importing the module\n",
    "import json\n",
    "  \n",
    "# Opening JSON file\n",
    "f = open('json_datasets/train.json', 'r')\n",
    "\n",
    "raw_train = json.load(f)"
   ]
  },
  {
   "cell_type": "code",
   "execution_count": 3,
   "metadata": {},
   "outputs": [],
   "source": [
    "def removeQuotes(lst):\n",
    "    ret = []\n",
    "    for s in lst:\n",
    "        if s != '``' and s != \"''\":\n",
    "            ret.append(s)\n",
    "    return ret\n",
    "\n",
    "def camelCaseSplit(identifier):\n",
    "    matches = re.finditer('.+?(?:(?<=[a-z])(?=[A-Z])|(?<=[A-Z])(?=[A-Z][a-z])|$)', identifier)\n",
    "    d = [m.group(0) for m in matches]\n",
    "    new_d = []\n",
    "    for token in d:\n",
    "        token = token.replace('(', '')\n",
    "        token = token.replace(')', '')\n",
    "        token_split = token.split('_')\n",
    "        for t in token_split:\n",
    "            #new_d.append(t.lower())\n",
    "            new_d.append(t)\n",
    "    return new_d"
   ]
  },
  {
   "cell_type": "code",
   "execution_count": 4,
   "metadata": {},
   "outputs": [],
   "source": [
    "def g2tPreprocess(raw):\n",
    "    graphs = []\n",
    "    texts = []\n",
    "    for item in raw:\n",
    "        for relation in item['relations']:\n",
    "            graph = ' <H> ' + ' '.join(removeQuotes(relation[0])) + ' <R> '\n",
    "            graph += ' '.join(camelCaseSplit(relation[1])) + ' <T> '\n",
    "            graph += ' '.join(removeQuotes(relation[2]))\n",
    "            graphs.append(graph)\n",
    "        ents = [' '.join(removeQuotes(entity)) for entity in item['entities']]\n",
    "        text = item['text']\n",
    "        for i in range(len(ents)):\n",
    "            text = text.replace('<ENT_'+str(i)+'>', ents[i])\n",
    "        texts.append(text)\n",
    "    return graphs, texts"
   ]
  },
  {
   "cell_type": "code",
   "execution_count": 5,
   "metadata": {},
   "outputs": [
    {
     "name": "stdout",
     "output_type": "stream",
     "text": [
      "[' <H> Aarhus Airport <R> city Served <T> Aarhus , Denmark', ' <H> Aarhus Airport <R> city Served <T> Aarhus , Denmark', ' <H> Aarhus Airport <R> city Served <T> Aarhus', ' <H> Aarhus Airport <R> elevation Above The Sea Level in metres <T> 25.0', ' <H> Aarhus Airport <R> elevation Above The Sea Level in metres <T> 25.0', ' <H> Aarhus Airport <R> elevation Above The Sea Level in metres <T> 25.0', ' <H> Aarhus Airport <R> location <T> Tirstrup', ' <H> Aarhus Airport <R> location <T> Tirstrup', ' <H> Aarhus Airport <R> operating Organisation <T> Aarhus Lufthavn A/S', ' <H> Aarhus Airport <R> operating Organisation <T> Aarhus Lufthavn A/S']\n",
      "['the Aarhus Airport of Aarhus , Denmark .', 'Aarhus Airport serves the city of Aarhus , Denmark .', 'Aarhus Airport serves the city of Aarhus .', 'Aarhus Airport is 25.0 metres above sea level .', 'Aarhus Airport is at an elevation of 25.0 metres above seal level .', 'Aarhus Airport is 25.0 metres above the sea level .', 'Aarhus Airport is located in Tirstrup .', 'the location of Aarhus Airport is Tirstrup .', 'Aarhus Airport is operated by Aarhus Lufthavn A/S .', 'Aarhus Lufthavn A/S is the operation organisation of Aarhus Airport .']\n"
     ]
    }
   ],
   "source": [
    "graphs, texts = g2tPreprocess(raw_train)\n",
    "print(graphs[:10])\n",
    "print(texts[:10])"
   ]
  }
 ],
 "metadata": {
  "interpreter": {
   "hash": "aee8b7b246df8f9039afb4144a1f6fd8d2ca17a180786b69acc140d282b71a49"
  },
  "kernelspec": {
   "display_name": "Python 3.9.8 64-bit",
   "language": "python",
   "name": "python3"
  },
  "language_info": {
   "codemirror_mode": {
    "name": "ipython",
    "version": 3
   },
   "file_extension": ".py",
   "mimetype": "text/x-python",
   "name": "python",
   "nbconvert_exporter": "python",
   "pygments_lexer": "ipython3",
   "version": "3.9.7"
  },
  "orig_nbformat": 4
 },
 "nbformat": 4,
 "nbformat_minor": 2
}
